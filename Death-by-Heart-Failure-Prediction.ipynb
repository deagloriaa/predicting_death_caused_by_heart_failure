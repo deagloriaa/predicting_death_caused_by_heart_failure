{
  "nbformat": 4,
  "nbformat_minor": 0,
  "metadata": {
    "colab": {
      "provenance": []
    },
    "kernelspec": {
      "name": "python3",
      "display_name": "Python 3"
    },
    "language_info": {
      "name": "python"
    }
  },
  "cells": [
    {
      "cell_type": "markdown",
      "metadata": {
        "id": "g2a1pAq0kpVe"
      },
      "source": [
        "## Importing Libraries"
      ]
    },
    {
      "cell_type": "code",
      "metadata": {
        "id": "We9uk1gqksZ4"
      },
      "source": [
        "import pandas as pd\n",
        "import numpy as np\n",
        "import matplotlib.pyplot as plt\n",
        "import seaborn as sns"
      ],
      "execution_count": null,
      "outputs": []
    },
    {
      "cell_type": "code",
      "metadata": {
        "id": "kSfO7BSD1pGS"
      },
      "source": [
        "# import sklearn library\n",
        "import sklearn.datasets as datasets\n",
        "import sklearn.preprocessing as preprocessing\n",
        "import sklearn.model_selection as model_selection\n",
        "import sklearn.metrics as metrics\n",
        "import sklearn.linear_model as linear_model\n",
        "from sklearn.metrics import confusion_matrix, accuracy_score, classification_report\n",
        "from sklearn.preprocessing import LabelEncoder,LabelBinarizer,StandardScaler"
      ],
      "execution_count": null,
      "outputs": []
    },
    {
      "cell_type": "code",
      "metadata": {
        "colab": {
          "base_uri": "https://localhost:8080/"
        },
        "id": "M1IZjwKCRujD",
        "outputId": "379d85fd-fe3f-4890-cdff-0a49bff47abe"
      },
      "source": [
        "!pip install scikit-plot"
      ],
      "execution_count": null,
      "outputs": [
        {
          "output_type": "stream",
          "name": "stdout",
          "text": [
            "Requirement already satisfied: scikit-plot in /usr/local/lib/python3.7/dist-packages (0.3.7)\n",
            "Requirement already satisfied: scipy>=0.9 in /usr/local/lib/python3.7/dist-packages (from scikit-plot) (1.4.1)\n",
            "Requirement already satisfied: scikit-learn>=0.18 in /usr/local/lib/python3.7/dist-packages (from scikit-plot) (0.22.2.post1)\n",
            "Requirement already satisfied: joblib>=0.10 in /usr/local/lib/python3.7/dist-packages (from scikit-plot) (1.0.1)\n",
            "Requirement already satisfied: matplotlib>=1.4.0 in /usr/local/lib/python3.7/dist-packages (from scikit-plot) (3.2.2)\n",
            "Requirement already satisfied: numpy>=1.11 in /usr/local/lib/python3.7/dist-packages (from matplotlib>=1.4.0->scikit-plot) (1.19.5)\n",
            "Requirement already satisfied: kiwisolver>=1.0.1 in /usr/local/lib/python3.7/dist-packages (from matplotlib>=1.4.0->scikit-plot) (1.3.1)\n",
            "Requirement already satisfied: pyparsing!=2.0.4,!=2.1.2,!=2.1.6,>=2.0.1 in /usr/local/lib/python3.7/dist-packages (from matplotlib>=1.4.0->scikit-plot) (2.4.7)\n",
            "Requirement already satisfied: cycler>=0.10 in /usr/local/lib/python3.7/dist-packages (from matplotlib>=1.4.0->scikit-plot) (0.10.0)\n",
            "Requirement already satisfied: python-dateutil>=2.1 in /usr/local/lib/python3.7/dist-packages (from matplotlib>=1.4.0->scikit-plot) (2.8.2)\n",
            "Requirement already satisfied: six in /usr/local/lib/python3.7/dist-packages (from cycler>=0.10->matplotlib>=1.4.0->scikit-plot) (1.15.0)\n"
          ]
        }
      ]
    },
    {
      "cell_type": "code",
      "metadata": {
        "id": "Oan52YBER3uD"
      },
      "source": [
        "import scikitplot as skplt"
      ],
      "execution_count": null,
      "outputs": []
    },
    {
      "cell_type": "code",
      "metadata": {
        "id": "6y2SV5Yz1C95",
        "colab": {
          "base_uri": "https://localhost:8080/"
        },
        "outputId": "7ea66ae5-8c0e-47bc-ca79-afe0bea4cbdf"
      },
      "source": [
        "import google.colab as gc\n",
        "gc.drive.mount('/content/drive')"
      ],
      "execution_count": null,
      "outputs": [
        {
          "output_type": "stream",
          "name": "stdout",
          "text": [
            "Drive already mounted at /content/drive; to attempt to forcibly remount, call drive.mount(\"/content/drive\", force_remount=True).\n"
          ]
        }
      ]
    },
    {
      "cell_type": "code",
      "metadata": {
        "id": "dzdHnMHM1LKQ",
        "colab": {
          "base_uri": "https://localhost:8080/"
        },
        "outputId": "34ee5538-aa75-44ff-bcae-a8bf386d30d3"
      },
      "source": [
        "!pwd"
      ],
      "execution_count": null,
      "outputs": [
        {
          "output_type": "stream",
          "name": "stdout",
          "text": [
            "/content\n"
          ]
        }
      ]
    },
    {
      "cell_type": "code",
      "metadata": {
        "id": "eK7vgWZL1MIZ",
        "colab": {
          "base_uri": "https://localhost:8080/"
        },
        "outputId": "326e1722-0fe2-4d2a-cd92-ceb663c34cb1"
      },
      "source": [
        "%cd '/content/drive/My Drive/Dibimbing'"
      ],
      "execution_count": null,
      "outputs": [
        {
          "output_type": "stream",
          "name": "stdout",
          "text": [
            "/content/drive/My Drive/Dibimbing\n"
          ]
        }
      ]
    },
    {
      "cell_type": "code",
      "metadata": {
        "colab": {
          "base_uri": "https://localhost:8080/"
        },
        "id": "OFkvrubZAuDl",
        "outputId": "5eec436a-526c-4143-ad27-19e8b1869621"
      },
      "source": [
        "!ls"
      ],
      "execution_count": null,
      "outputs": [
        {
          "output_type": "stream",
          "name": "stdout",
          "text": [
            "'Day 20'  'Day 22'\t\t\t\t      heart_failure.csv\n",
            "'Day 21'  'Dea Gloria - Final Project Script.ipynb'   __pycache__\n"
          ]
        }
      ]
    },
    {
      "cell_type": "markdown",
      "metadata": {
        "id": "yhWjdIpQNRO1"
      },
      "source": [
        "## Reading the Data"
      ]
    },
    {
      "cell_type": "code",
      "metadata": {
        "id": "LgKg3RRE6-41"
      },
      "source": [
        "data = pd.read_csv(\"heart_failure.csv\")"
      ],
      "execution_count": null,
      "outputs": []
    },
    {
      "cell_type": "code",
      "metadata": {
        "id": "FKYX6xVPAHIb",
        "colab": {
          "base_uri": "https://localhost:8080/",
          "height": 203
        },
        "outputId": "4cf0b8fb-b14d-4c18-bb32-99b490bdd8a0"
      },
      "source": [
        "data.head()"
      ],
      "execution_count": null,
      "outputs": [
        {
          "output_type": "execute_result",
          "data": {
            "text/html": [
              "<div>\n",
              "<style scoped>\n",
              "    .dataframe tbody tr th:only-of-type {\n",
              "        vertical-align: middle;\n",
              "    }\n",
              "\n",
              "    .dataframe tbody tr th {\n",
              "        vertical-align: top;\n",
              "    }\n",
              "\n",
              "    .dataframe thead th {\n",
              "        text-align: right;\n",
              "    }\n",
              "</style>\n",
              "<table border=\"1\" class=\"dataframe\">\n",
              "  <thead>\n",
              "    <tr style=\"text-align: right;\">\n",
              "      <th></th>\n",
              "      <th>age</th>\n",
              "      <th>anaemia</th>\n",
              "      <th>creatinine_phosphokinase</th>\n",
              "      <th>diabetes</th>\n",
              "      <th>ejection_fraction</th>\n",
              "      <th>high_blood_pressure</th>\n",
              "      <th>platelets</th>\n",
              "      <th>serum_creatinine</th>\n",
              "      <th>serum_sodium</th>\n",
              "      <th>sex</th>\n",
              "      <th>smoking</th>\n",
              "      <th>time</th>\n",
              "      <th>DEATH_EVENT</th>\n",
              "    </tr>\n",
              "  </thead>\n",
              "  <tbody>\n",
              "    <tr>\n",
              "      <th>0</th>\n",
              "      <td>75.0</td>\n",
              "      <td>0</td>\n",
              "      <td>582</td>\n",
              "      <td>0</td>\n",
              "      <td>20</td>\n",
              "      <td>1</td>\n",
              "      <td>265000.00</td>\n",
              "      <td>1.9</td>\n",
              "      <td>130</td>\n",
              "      <td>1</td>\n",
              "      <td>0</td>\n",
              "      <td>4</td>\n",
              "      <td>1</td>\n",
              "    </tr>\n",
              "    <tr>\n",
              "      <th>1</th>\n",
              "      <td>55.0</td>\n",
              "      <td>0</td>\n",
              "      <td>7861</td>\n",
              "      <td>0</td>\n",
              "      <td>38</td>\n",
              "      <td>0</td>\n",
              "      <td>263358.03</td>\n",
              "      <td>1.1</td>\n",
              "      <td>136</td>\n",
              "      <td>1</td>\n",
              "      <td>0</td>\n",
              "      <td>6</td>\n",
              "      <td>1</td>\n",
              "    </tr>\n",
              "    <tr>\n",
              "      <th>2</th>\n",
              "      <td>65.0</td>\n",
              "      <td>0</td>\n",
              "      <td>146</td>\n",
              "      <td>0</td>\n",
              "      <td>20</td>\n",
              "      <td>0</td>\n",
              "      <td>162000.00</td>\n",
              "      <td>1.3</td>\n",
              "      <td>129</td>\n",
              "      <td>1</td>\n",
              "      <td>1</td>\n",
              "      <td>7</td>\n",
              "      <td>1</td>\n",
              "    </tr>\n",
              "    <tr>\n",
              "      <th>3</th>\n",
              "      <td>50.0</td>\n",
              "      <td>1</td>\n",
              "      <td>111</td>\n",
              "      <td>0</td>\n",
              "      <td>20</td>\n",
              "      <td>0</td>\n",
              "      <td>210000.00</td>\n",
              "      <td>1.9</td>\n",
              "      <td>137</td>\n",
              "      <td>1</td>\n",
              "      <td>0</td>\n",
              "      <td>7</td>\n",
              "      <td>1</td>\n",
              "    </tr>\n",
              "    <tr>\n",
              "      <th>4</th>\n",
              "      <td>65.0</td>\n",
              "      <td>1</td>\n",
              "      <td>160</td>\n",
              "      <td>1</td>\n",
              "      <td>20</td>\n",
              "      <td>0</td>\n",
              "      <td>327000.00</td>\n",
              "      <td>2.7</td>\n",
              "      <td>116</td>\n",
              "      <td>0</td>\n",
              "      <td>0</td>\n",
              "      <td>8</td>\n",
              "      <td>1</td>\n",
              "    </tr>\n",
              "  </tbody>\n",
              "</table>\n",
              "</div>"
            ],
            "text/plain": [
              "    age  anaemia  creatinine_phosphokinase  ...  smoking  time  DEATH_EVENT\n",
              "0  75.0        0                       582  ...        0     4            1\n",
              "1  55.0        0                      7861  ...        0     6            1\n",
              "2  65.0        0                       146  ...        1     7            1\n",
              "3  50.0        1                       111  ...        0     7            1\n",
              "4  65.0        1                       160  ...        0     8            1\n",
              "\n",
              "[5 rows x 13 columns]"
            ]
          },
          "metadata": {},
          "execution_count": 10
        }
      ]
    },
    {
      "cell_type": "code",
      "metadata": {
        "id": "KtIsBvPHAKEy",
        "colab": {
          "base_uri": "https://localhost:8080/"
        },
        "outputId": "afcf4490-d50d-4579-a418-ea706e68a13e"
      },
      "source": [
        "data.info()"
      ],
      "execution_count": null,
      "outputs": [
        {
          "output_type": "stream",
          "name": "stdout",
          "text": [
            "<class 'pandas.core.frame.DataFrame'>\n",
            "RangeIndex: 299 entries, 0 to 298\n",
            "Data columns (total 13 columns):\n",
            " #   Column                    Non-Null Count  Dtype  \n",
            "---  ------                    --------------  -----  \n",
            " 0   age                       299 non-null    float64\n",
            " 1   anaemia                   299 non-null    int64  \n",
            " 2   creatinine_phosphokinase  299 non-null    int64  \n",
            " 3   diabetes                  299 non-null    int64  \n",
            " 4   ejection_fraction         299 non-null    int64  \n",
            " 5   high_blood_pressure       299 non-null    int64  \n",
            " 6   platelets                 299 non-null    float64\n",
            " 7   serum_creatinine          299 non-null    float64\n",
            " 8   serum_sodium              299 non-null    int64  \n",
            " 9   sex                       299 non-null    int64  \n",
            " 10  smoking                   299 non-null    int64  \n",
            " 11  time                      299 non-null    int64  \n",
            " 12  DEATH_EVENT               299 non-null    int64  \n",
            "dtypes: float64(3), int64(10)\n",
            "memory usage: 30.5 KB\n"
          ]
        }
      ]
    },
    {
      "cell_type": "code",
      "metadata": {
        "id": "zMmvOwUcQ5I2",
        "colab": {
          "base_uri": "https://localhost:8080/"
        },
        "outputId": "4f150973-ba81-43e8-b067-887881b73661"
      },
      "source": [
        "data.shape"
      ],
      "execution_count": null,
      "outputs": [
        {
          "output_type": "execute_result",
          "data": {
            "text/plain": [
              "(299, 13)"
            ]
          },
          "metadata": {},
          "execution_count": 12
        }
      ]
    },
    {
      "cell_type": "markdown",
      "metadata": {
        "id": "ZgWIGLWpRbpv"
      },
      "source": [
        "### Column Explanation:\n",
        "1. age: the person's current age\n",
        "2. anaemia: whether the person has decrease of red blood cells or hemoglobin (0 for no, 1 for yes)\n",
        "3. creatinine_phosphokinase: level of CPK enzyme in the blood (mcg/L)\n",
        "4. diabetes: whether the person has diabetes (0 for no, 1 for yes)\n",
        "5. ejection_fraction: percentage of blood leaving the heart at each contraction\n",
        "6. high_blood_pressure: whether the person has hipertension (0 for no, 1 for yes)\n",
        "7. platelets: platelets in the blood (kiloplatelets/mL)\n",
        "8. serum_creatinine: level of serum creatinine in the blood (mg/dL)\n",
        "9. serum_sodium: level of serum sodium in the blood (mEq/L)\n",
        "10. sex: 0 for women, 1 for men\n",
        "11. smoking: whether the person is smoking (0 for no, 1 for yes)\n",
        "12. time: follow up period (in days)\n",
        "13. death_event: whether the person deceased during the follow-up period (boolean)"
      ]
    },
    {
      "cell_type": "markdown",
      "metadata": {
        "id": "GnuQQYgEGmSB"
      },
      "source": [
        "## Exploratory Data Analysis"
      ]
    },
    {
      "cell_type": "code",
      "metadata": {
        "id": "h7uSkeKEHyO7",
        "colab": {
          "base_uri": "https://localhost:8080/"
        },
        "outputId": "6c38bff4-fc20-4c09-955a-cd7b21f36340"
      },
      "source": [
        "# No null values\n",
        "data.isnull().sum()"
      ],
      "execution_count": null,
      "outputs": [
        {
          "output_type": "execute_result",
          "data": {
            "text/plain": [
              "age                         0\n",
              "anaemia                     0\n",
              "creatinine_phosphokinase    0\n",
              "diabetes                    0\n",
              "ejection_fraction           0\n",
              "high_blood_pressure         0\n",
              "platelets                   0\n",
              "serum_creatinine            0\n",
              "serum_sodium                0\n",
              "sex                         0\n",
              "smoking                     0\n",
              "time                        0\n",
              "DEATH_EVENT                 0\n",
              "dtype: int64"
            ]
          },
          "metadata": {},
          "execution_count": 13
        }
      ]
    },
    {
      "cell_type": "code",
      "metadata": {
        "id": "2TpAOC2Juuqi"
      },
      "source": [
        "# Changing data types\n",
        "data['anaemia'] = data['anaemia'].astype('category')\n",
        "data['diabetes'] = data['diabetes'].astype('category')\n",
        "data['high_blood_pressure'] = data['high_blood_pressure'].astype('category')\n",
        "data['sex'] = data['sex'].astype('category')\n",
        "data['smoking'] = data['smoking'].astype('category')\n",
        "data['DEATH_EVENT'] = data['DEATH_EVENT'].astype('category')\n",
        "data['age'] = data['age'].astype('int')"
      ],
      "execution_count": null,
      "outputs": []
    },
    {
      "cell_type": "code",
      "metadata": {
        "colab": {
          "base_uri": "https://localhost:8080/"
        },
        "id": "qgkniTMZOlkj",
        "outputId": "10c0b185-8d14-4acf-ec9f-cf54f17eb43a"
      },
      "source": [
        "data.info()"
      ],
      "execution_count": null,
      "outputs": [
        {
          "output_type": "stream",
          "name": "stdout",
          "text": [
            "<class 'pandas.core.frame.DataFrame'>\n",
            "RangeIndex: 299 entries, 0 to 298\n",
            "Data columns (total 13 columns):\n",
            " #   Column                    Non-Null Count  Dtype   \n",
            "---  ------                    --------------  -----   \n",
            " 0   age                       299 non-null    int64   \n",
            " 1   anaemia                   299 non-null    category\n",
            " 2   creatinine_phosphokinase  299 non-null    int64   \n",
            " 3   diabetes                  299 non-null    category\n",
            " 4   ejection_fraction         299 non-null    int64   \n",
            " 5   high_blood_pressure       299 non-null    category\n",
            " 6   platelets                 299 non-null    float64 \n",
            " 7   serum_creatinine          299 non-null    float64 \n",
            " 8   serum_sodium              299 non-null    int64   \n",
            " 9   sex                       299 non-null    category\n",
            " 10  smoking                   299 non-null    category\n",
            " 11  time                      299 non-null    int64   \n",
            " 12  DEATH_EVENT               299 non-null    category\n",
            "dtypes: category(6), float64(2), int64(5)\n",
            "memory usage: 18.8 KB\n"
          ]
        }
      ]
    },
    {
      "cell_type": "code",
      "metadata": {
        "colab": {
          "base_uri": "https://localhost:8080/",
          "height": 295
        },
        "id": "uMak7OdRQ-pL",
        "outputId": "3719de34-d257-4b7a-f338-7a3422326d0c"
      },
      "source": [
        "numeric_columns = ['age', 'creatinine_phosphokinase', 'ejection_fraction', 'platelets', 'serum_creatinine', 'serum_sodium', 'time']\n",
        "data[numeric_columns].describe()"
      ],
      "execution_count": null,
      "outputs": [
        {
          "output_type": "execute_result",
          "data": {
            "text/html": [
              "<div>\n",
              "<style scoped>\n",
              "    .dataframe tbody tr th:only-of-type {\n",
              "        vertical-align: middle;\n",
              "    }\n",
              "\n",
              "    .dataframe tbody tr th {\n",
              "        vertical-align: top;\n",
              "    }\n",
              "\n",
              "    .dataframe thead th {\n",
              "        text-align: right;\n",
              "    }\n",
              "</style>\n",
              "<table border=\"1\" class=\"dataframe\">\n",
              "  <thead>\n",
              "    <tr style=\"text-align: right;\">\n",
              "      <th></th>\n",
              "      <th>age</th>\n",
              "      <th>creatinine_phosphokinase</th>\n",
              "      <th>ejection_fraction</th>\n",
              "      <th>platelets</th>\n",
              "      <th>serum_creatinine</th>\n",
              "      <th>serum_sodium</th>\n",
              "      <th>time</th>\n",
              "    </tr>\n",
              "  </thead>\n",
              "  <tbody>\n",
              "    <tr>\n",
              "      <th>count</th>\n",
              "      <td>299.000000</td>\n",
              "      <td>299.000000</td>\n",
              "      <td>299.000000</td>\n",
              "      <td>299.000000</td>\n",
              "      <td>299.00000</td>\n",
              "      <td>299.000000</td>\n",
              "      <td>299.000000</td>\n",
              "    </tr>\n",
              "    <tr>\n",
              "      <th>mean</th>\n",
              "      <td>60.829431</td>\n",
              "      <td>581.839465</td>\n",
              "      <td>38.083612</td>\n",
              "      <td>263358.029264</td>\n",
              "      <td>1.39388</td>\n",
              "      <td>136.625418</td>\n",
              "      <td>130.260870</td>\n",
              "    </tr>\n",
              "    <tr>\n",
              "      <th>std</th>\n",
              "      <td>11.894997</td>\n",
              "      <td>970.287881</td>\n",
              "      <td>11.834841</td>\n",
              "      <td>97804.236869</td>\n",
              "      <td>1.03451</td>\n",
              "      <td>4.412477</td>\n",
              "      <td>77.614208</td>\n",
              "    </tr>\n",
              "    <tr>\n",
              "      <th>min</th>\n",
              "      <td>40.000000</td>\n",
              "      <td>23.000000</td>\n",
              "      <td>14.000000</td>\n",
              "      <td>25100.000000</td>\n",
              "      <td>0.50000</td>\n",
              "      <td>113.000000</td>\n",
              "      <td>4.000000</td>\n",
              "    </tr>\n",
              "    <tr>\n",
              "      <th>25%</th>\n",
              "      <td>51.000000</td>\n",
              "      <td>116.500000</td>\n",
              "      <td>30.000000</td>\n",
              "      <td>212500.000000</td>\n",
              "      <td>0.90000</td>\n",
              "      <td>134.000000</td>\n",
              "      <td>73.000000</td>\n",
              "    </tr>\n",
              "    <tr>\n",
              "      <th>50%</th>\n",
              "      <td>60.000000</td>\n",
              "      <td>250.000000</td>\n",
              "      <td>38.000000</td>\n",
              "      <td>262000.000000</td>\n",
              "      <td>1.10000</td>\n",
              "      <td>137.000000</td>\n",
              "      <td>115.000000</td>\n",
              "    </tr>\n",
              "    <tr>\n",
              "      <th>75%</th>\n",
              "      <td>70.000000</td>\n",
              "      <td>582.000000</td>\n",
              "      <td>45.000000</td>\n",
              "      <td>303500.000000</td>\n",
              "      <td>1.40000</td>\n",
              "      <td>140.000000</td>\n",
              "      <td>203.000000</td>\n",
              "    </tr>\n",
              "    <tr>\n",
              "      <th>max</th>\n",
              "      <td>95.000000</td>\n",
              "      <td>7861.000000</td>\n",
              "      <td>80.000000</td>\n",
              "      <td>850000.000000</td>\n",
              "      <td>9.40000</td>\n",
              "      <td>148.000000</td>\n",
              "      <td>285.000000</td>\n",
              "    </tr>\n",
              "  </tbody>\n",
              "</table>\n",
              "</div>"
            ],
            "text/plain": [
              "              age  creatinine_phosphokinase  ...  serum_sodium        time\n",
              "count  299.000000                299.000000  ...    299.000000  299.000000\n",
              "mean    60.829431                581.839465  ...    136.625418  130.260870\n",
              "std     11.894997                970.287881  ...      4.412477   77.614208\n",
              "min     40.000000                 23.000000  ...    113.000000    4.000000\n",
              "25%     51.000000                116.500000  ...    134.000000   73.000000\n",
              "50%     60.000000                250.000000  ...    137.000000  115.000000\n",
              "75%     70.000000                582.000000  ...    140.000000  203.000000\n",
              "max     95.000000               7861.000000  ...    148.000000  285.000000\n",
              "\n",
              "[8 rows x 7 columns]"
            ]
          },
          "metadata": {},
          "execution_count": 16
        }
      ]
    },
    {
      "cell_type": "code",
      "metadata": {
        "colab": {
          "base_uri": "https://localhost:8080/",
          "height": 741
        },
        "id": "AXdjZFKnEYJH",
        "outputId": "57cec861-80ce-411c-91ae-3e85b8810762"
      },
      "source": [
        "# Checking numerical data distribution\n",
        "fig, axes = plt.subplots(2, 4, figsize=(10, 10))\n",
        "fig.tight_layout()\n",
        "\n",
        "age_dist = sns.histplot(data, x=\"age\", kde=True, color='red',ax=axes[0, 0])\n",
        "cp_dist = sns.histplot(data, x=\"creatinine_phosphokinase\", kde=True, color='orange',ax=axes[0, 1])\n",
        "ejection_dist = sns.histplot(data, x=\"ejection_fraction\", kde=True, color='pink',ax=axes[0, 2])\n",
        "platelets_dist = sns.histplot(data, x=\"platelets\", kde=True, color='green',ax=axes[0, 3])\n",
        "sc_dist = sns.histplot(data, x=\"serum_creatinine\", kde=True, color='blue',ax=axes[1, 0])\n",
        "ss_dist = sns.histplot(data, x=\"serum_sodium\", kde=True, color='purple',ax=axes[1, 1])\n",
        "time_dist = sns.histplot(data, x=\"time\", kde=True, color='brown',ax=axes[1, 2])\n",
        "\n",
        "plt.subplots_adjust(hspace = 0.5)\n",
        "age_dist.lines[0].set_color('green')\n",
        "cp_dist.lines[0].set_color('red')\n",
        "ejection_dist.lines[0].set_color('green')\n",
        "platelets_dist.lines[0].set_color('red')\n",
        "sc_dist.lines[0].set_color('gold')\n",
        "ss_dist.lines[0].set_color('green')\n",
        "time_dist.lines[0].set_color('gold')"
      ],
      "execution_count": null,
      "outputs": [
        {
          "output_type": "display_data",
          "data": {
            "image/png": "[encoded data removed]",
            "text/plain": [
              "<Figure size 720x720 with 8 Axes>"
            ]
          },
          "metadata": {
            "needs_background": "light"
          }
        }
      ]
    },
    {
      "cell_type": "code",
      "metadata": {
        "colab": {
          "base_uri": "https://localhost:8080/",
          "height": 650
        },
        "id": "un2aabjivr2h",
        "outputId": "832268eb-bd3b-40c4-8b97-b6be4110b114"
      },
      "source": [
        "# Checking categorical column counts\n",
        "fig, axes = plt.subplots(2, 3, figsize=(8, 8))\n",
        "fig.tight_layout()\n",
        "\n",
        "anaemia_count = sns.countplot(data['anaemia'], palette = 'cividis', ax=axes[0, 0])\n",
        "diabetes_count = sns.countplot(data['diabetes'], palette = 'cividis', ax=axes[0, 1])\n",
        "hbp_count = sns.countplot(data['high_blood_pressure'], palette = 'cividis', ax=axes[0, 2])\n",
        "sex_count = sns.countplot(data['sex'], palette = 'cividis', ax=axes[1, 0])\n",
        "smoking_count = sns.countplot(data['smoking'], palette = 'cividis', ax=axes[1, 1])\n",
        "target_count = sns.countplot(data['DEATH_EVENT'], palette = 'cividis', ax=axes[1, 2])\n",
        "\n",
        "plt.subplots_adjust(hspace = 0.5)"
      ],
      "execution_count": null,
      "outputs": [
        {
          "output_type": "stream",
          "name": "stderr",
          "text": [
            "/usr/local/lib/python3.7/dist-packages/seaborn/_decorators.py:43: FutureWarning: Pass the following variable as a keyword arg: x. From version 0.12, the only valid positional argument will be `data`, and passing other arguments without an explicit keyword will result in an error or misinterpretation.\n",
            "  FutureWarning\n"
          ]
        },
        {
          "output_type": "display_data",
          "data": {
            "image/png": "[encoded data removed]",
            "text/plain": [
              "<Figure size 576x576 with 6 Axes>"
            ]
          },
          "metadata": {
            "needs_background": "light"
          }
        }
      ]
    },
    {
      "cell_type": "markdown",
      "metadata": {
        "id": "c76WF3E0bnbL"
      },
      "source": [
        "## Finding & Removing Outliers"
      ]
    },
    {
      "cell_type": "code",
      "metadata": {
        "colab": {
          "base_uri": "https://localhost:8080/",
          "height": 500
        },
        "id": "bQQCYDO7Sqzz",
        "outputId": "c3d9277c-3879-4501-a4f9-07cbd50e652e"
      },
      "source": [
        "# Creating boxplot to check for outliers\n",
        "data.boxplot(column=numeric_columns,fontsize=10,rot=0,grid=False,figsize=(8,8),vert=False)"
      ],
      "execution_count": null,
      "outputs": [
        {
          "output_type": "execute_result",
          "data": {
            "text/plain": [
              "<matplotlib.axes._subplots.AxesSubplot at 0x7f3dbfc296d0>"
            ]
          },
          "metadata": {},
          "execution_count": 19
        },
        {
          "output_type": "display_data",
          "data": {
            "image/png": "[encoded data removed]",
            "text/plain": [
              "<Figure size 576x576 with 1 Axes>"
            ]
          },
          "metadata": {
            "needs_background": "light"
          }
        }
      ]
    },
    {
      "cell_type": "code",
      "metadata": {
        "colab": {
          "base_uri": "https://localhost:8080/"
        },
        "id": "7yCRNTvWdyBw",
        "outputId": "c7596930-c2b9-4ad8-f648-4098017e32d7"
      },
      "source": [
        "Q1 = data[numeric_columns].quantile(0.25)\n",
        "Q3 = data[numeric_columns].quantile(0.75)\n",
        "IQR = Q3 - Q1\n",
        "boxplot_min = Q1 - 1.5 * IQR\n",
        "boxplot_max = Q3 + 1.5 * IQR\n",
        "print('Q1:\\n',Q1)\n",
        "print('\\nQ3:\\n',Q3)\n",
        "print('\\nIQR:\\n',IQR)\n",
        "print('\\nMin:\\n',boxplot_min)\n",
        "print('\\nMax:\\n',boxplot_max)"
      ],
      "execution_count": null,
      "outputs": [
        {
          "output_type": "stream",
          "name": "stdout",
          "text": [
            "Q1:\n",
            " age                             51.0\n",
            "creatinine_phosphokinase       116.5\n",
            "ejection_fraction               30.0\n",
            "platelets                   212500.0\n",
            "serum_creatinine                 0.9\n",
            "serum_sodium                   134.0\n",
            "time                            73.0\n",
            "Name: 0.25, dtype: float64\n",
            "\n",
            "Q3:\n",
            " age                             70.0\n",
            "creatinine_phosphokinase       582.0\n",
            "ejection_fraction               45.0\n",
            "platelets                   303500.0\n",
            "serum_creatinine                 1.4\n",
            "serum_sodium                   140.0\n",
            "time                           203.0\n",
            "Name: 0.75, dtype: float64\n",
            "\n",
            "IQR:\n",
            " age                            19.0\n",
            "creatinine_phosphokinase      465.5\n",
            "ejection_fraction              15.0\n",
            "platelets                   91000.0\n",
            "serum_creatinine                0.5\n",
            "serum_sodium                    6.0\n",
            "time                          130.0\n",
            "dtype: float64\n",
            "\n",
            "Min:\n",
            " age                            22.50\n",
            "creatinine_phosphokinase     -581.75\n",
            "ejection_fraction               7.50\n",
            "platelets                   76000.00\n",
            "serum_creatinine                0.15\n",
            "serum_sodium                  125.00\n",
            "time                         -122.00\n",
            "dtype: float64\n",
            "\n",
            "Max:\n",
            " age                             98.50\n",
            "creatinine_phosphokinase      1280.25\n",
            "ejection_fraction               67.50\n",
            "platelets                   440000.00\n",
            "serum_creatinine                 2.15\n",
            "serum_sodium                   149.00\n",
            "time                           398.00\n",
            "dtype: float64\n"
          ]
        }
      ]
    },
    {
      "cell_type": "code",
      "metadata": {
        "colab": {
          "base_uri": "https://localhost:8080/",
          "height": 203
        },
        "id": "ZlFlViC6d43P",
        "outputId": "8d99a4ac-97b4-44ef-d30a-f0850036628d"
      },
      "source": [
        "# Removing outliers\n",
        "for x in numeric_columns:\n",
        "  filter_min = data[x]<boxplot_min[x]\n",
        "  filter_max = data[x]>boxplot_max[x]\n",
        "  data = data[~(\n",
        "    filter_min|filter_max\n",
        "    )]\n",
        "\n",
        "data.head(5)"
      ],
      "execution_count": null,
      "outputs": [
        {
          "output_type": "execute_result",
          "data": {
            "text/html": [
              "<div>\n",
              "<style scoped>\n",
              "    .dataframe tbody tr th:only-of-type {\n",
              "        vertical-align: middle;\n",
              "    }\n",
              "\n",
              "    .dataframe tbody tr th {\n",
              "        vertical-align: top;\n",
              "    }\n",
              "\n",
              "    .dataframe thead th {\n",
              "        text-align: right;\n",
              "    }\n",
              "</style>\n",
              "<table border=\"1\" class=\"dataframe\">\n",
              "  <thead>\n",
              "    <tr style=\"text-align: right;\">\n",
              "      <th></th>\n",
              "      <th>age</th>\n",
              "      <th>anaemia</th>\n",
              "      <th>creatinine_phosphokinase</th>\n",
              "      <th>diabetes</th>\n",
              "      <th>ejection_fraction</th>\n",
              "      <th>high_blood_pressure</th>\n",
              "      <th>platelets</th>\n",
              "      <th>serum_creatinine</th>\n",
              "      <th>serum_sodium</th>\n",
              "      <th>sex</th>\n",
              "      <th>smoking</th>\n",
              "      <th>time</th>\n",
              "      <th>DEATH_EVENT</th>\n",
              "    </tr>\n",
              "  </thead>\n",
              "  <tbody>\n",
              "    <tr>\n",
              "      <th>0</th>\n",
              "      <td>75</td>\n",
              "      <td>0</td>\n",
              "      <td>582</td>\n",
              "      <td>0</td>\n",
              "      <td>20</td>\n",
              "      <td>1</td>\n",
              "      <td>265000.0</td>\n",
              "      <td>1.9</td>\n",
              "      <td>130</td>\n",
              "      <td>1</td>\n",
              "      <td>0</td>\n",
              "      <td>4</td>\n",
              "      <td>1</td>\n",
              "    </tr>\n",
              "    <tr>\n",
              "      <th>2</th>\n",
              "      <td>65</td>\n",
              "      <td>0</td>\n",
              "      <td>146</td>\n",
              "      <td>0</td>\n",
              "      <td>20</td>\n",
              "      <td>0</td>\n",
              "      <td>162000.0</td>\n",
              "      <td>1.3</td>\n",
              "      <td>129</td>\n",
              "      <td>1</td>\n",
              "      <td>1</td>\n",
              "      <td>7</td>\n",
              "      <td>1</td>\n",
              "    </tr>\n",
              "    <tr>\n",
              "      <th>3</th>\n",
              "      <td>50</td>\n",
              "      <td>1</td>\n",
              "      <td>111</td>\n",
              "      <td>0</td>\n",
              "      <td>20</td>\n",
              "      <td>0</td>\n",
              "      <td>210000.0</td>\n",
              "      <td>1.9</td>\n",
              "      <td>137</td>\n",
              "      <td>1</td>\n",
              "      <td>0</td>\n",
              "      <td>7</td>\n",
              "      <td>1</td>\n",
              "    </tr>\n",
              "    <tr>\n",
              "      <th>5</th>\n",
              "      <td>90</td>\n",
              "      <td>1</td>\n",
              "      <td>47</td>\n",
              "      <td>0</td>\n",
              "      <td>40</td>\n",
              "      <td>1</td>\n",
              "      <td>204000.0</td>\n",
              "      <td>2.1</td>\n",
              "      <td>132</td>\n",
              "      <td>1</td>\n",
              "      <td>1</td>\n",
              "      <td>8</td>\n",
              "      <td>1</td>\n",
              "    </tr>\n",
              "    <tr>\n",
              "      <th>6</th>\n",
              "      <td>75</td>\n",
              "      <td>1</td>\n",
              "      <td>246</td>\n",
              "      <td>0</td>\n",
              "      <td>15</td>\n",
              "      <td>0</td>\n",
              "      <td>127000.0</td>\n",
              "      <td>1.2</td>\n",
              "      <td>137</td>\n",
              "      <td>1</td>\n",
              "      <td>0</td>\n",
              "      <td>10</td>\n",
              "      <td>1</td>\n",
              "    </tr>\n",
              "  </tbody>\n",
              "</table>\n",
              "</div>"
            ],
            "text/plain": [
              "   age anaemia  creatinine_phosphokinase diabetes  ...  sex smoking  time  DEATH_EVENT\n",
              "0   75       0                       582        0  ...    1       0     4            1\n",
              "2   65       0                       146        0  ...    1       1     7            1\n",
              "3   50       1                       111        0  ...    1       0     7            1\n",
              "5   90       1                        47        0  ...    1       1     8            1\n",
              "6   75       1                       246        0  ...    1       0    10            1\n",
              "\n",
              "[5 rows x 13 columns]"
            ]
          },
          "metadata": {},
          "execution_count": 21
        }
      ]
    },
    {
      "cell_type": "code",
      "metadata": {
        "colab": {
          "base_uri": "https://localhost:8080/"
        },
        "id": "34piew4yeI-6",
        "outputId": "67105807-8577-44e1-bd07-d728cf2280e8"
      },
      "source": [
        "data.shape"
      ],
      "execution_count": null,
      "outputs": [
        {
          "output_type": "execute_result",
          "data": {
            "text/plain": [
              "(224, 13)"
            ]
          },
          "metadata": {},
          "execution_count": 22
        }
      ]
    },
    {
      "cell_type": "code",
      "metadata": {
        "colab": {
          "base_uri": "https://localhost:8080/",
          "height": 635
        },
        "id": "6xssFP2PcFwZ",
        "outputId": "475e940a-92b8-40af-ae72-9eeda8caf77e"
      },
      "source": [
        "# Checking correlation between columns\n",
        "\n",
        "correlation_between_column = data.corr()\n",
        "upper_triangle_corr = np.triu(correlation_between_column)\n",
        "\n",
        "fig, ax = plt.subplots(figsize=(9,9))\n",
        "sns.heatmap(correlation_between_column, annot = True, cmap = \"RdBu\",vmax = 1.0, vmin= -1.0, ax = ax, annot_kws = {\"size\":15}, mask = upper_triangle_corr, square = True)"
      ],
      "execution_count": null,
      "outputs": [
        {
          "output_type": "execute_result",
          "data": {
            "text/plain": [
              "<matplotlib.axes._subplots.AxesSubplot at 0x7f3dbfb33450>"
            ]
          },
          "metadata": {},
          "execution_count": 23
        },
        {
          "output_type": "display_data",
          "data": {
            "image/png": "[encoded data removed]",
            "text/plain": [
              "<Figure size 648x648 with 2 Axes>"
            ]
          },
          "metadata": {
            "needs_background": "light"
          }
        }
      ]
    },
    {
      "cell_type": "markdown",
      "metadata": {
        "id": "x8KdAtHOggQI"
      },
      "source": [
        "## Data Preprocessing"
      ]
    },
    {
      "cell_type": "code",
      "metadata": {
        "id": "1tW5RuBggf0U"
      },
      "source": [
        "# Splitting features and target\n",
        "selected = ['age', 'serum_creatinine', 'time']\n",
        "x = data[selected]\n",
        "y = data['DEATH_EVENT']"
      ],
      "execution_count": null,
      "outputs": []
    },
    {
      "cell_type": "code",
      "metadata": {
        "id": "2tTFQ5YHhs9h"
      },
      "source": [
        "# Split the data into train and test\n",
        "x_train, x_test, y_train, y_test = model_selection.train_test_split(\n",
        "    x,\n",
        "    y,\n",
        "    train_size=0.8,\n",
        "    random_state=7\n",
        "    )"
      ],
      "execution_count": null,
      "outputs": []
    },
    {
      "cell_type": "code",
      "metadata": {
        "colab": {
          "base_uri": "https://localhost:8080/"
        },
        "id": "QvqrBcYRiOaM",
        "outputId": "9532521d-8f6a-4d82-c9e2-6f4d4151c00b"
      },
      "source": [
        "# Checking the data shape\n",
        "print('Shape Data x Train:')\n",
        "print(x_train.shape)\n",
        "print('\\nShape Data x Test:')\n",
        "print(x_test.shape)\n",
        "print('\\nShape Data y Train:')\n",
        "print(y_train.shape)\n",
        "print('\\nShape Data y Test:')\n",
        "print(y_test.shape)"
      ],
      "execution_count": null,
      "outputs": [
        {
          "output_type": "stream",
          "name": "stdout",
          "text": [
            "Shape Data x Train:\n",
            "(179, 3)\n",
            "\n",
            "Shape Data x Test:\n",
            "(45, 3)\n",
            "\n",
            "Shape Data y Train:\n",
            "(179,)\n",
            "\n",
            "Shape Data y Test:\n",
            "(45,)\n"
          ]
        }
      ]
    },
    {
      "cell_type": "code",
      "metadata": {
        "id": "ZMf_Sx3YiVwb"
      },
      "source": [
        "# Standardizing both train and test data\n",
        "scaler = StandardScaler()\n",
        "x_train = scaler.fit_transform(x_train)\n",
        "x_test = scaler.fit_transform(x_test)"
      ],
      "execution_count": null,
      "outputs": []
    },
    {
      "cell_type": "markdown",
      "metadata": {
        "id": "tGmTc2pklAvs"
      },
      "source": [
        "# Machine Learning Modelling"
      ]
    },
    {
      "cell_type": "markdown",
      "metadata": {
        "id": "W7CNvc5zipzx"
      },
      "source": [
        "## Logistic Regression"
      ]
    },
    {
      "cell_type": "code",
      "metadata": {
        "colab": {
          "base_uri": "https://localhost:8080/"
        },
        "id": "95q9_8k5io1J",
        "outputId": "7e85ad25-758c-4c79-8cdd-90d8f41ca44b"
      },
      "source": [
        "# Load the algorithm\n",
        "logreg = linear_model.LogisticRegression()\n",
        "logreg.fit(x_train, y_train)"
      ],
      "execution_count": null,
      "outputs": [
        {
          "output_type": "execute_result",
          "data": {
            "text/plain": [
              "LogisticRegression(C=1.0, class_weight=None, dual=False, fit_intercept=True,\n",
              "                   intercept_scaling=1, l1_ratio=None, max_iter=100,\n",
              "                   multi_class='auto', n_jobs=None, penalty='l2',\n",
              "                   random_state=None, solver='lbfgs', tol=0.0001, verbose=0,\n",
              "                   warm_start=False)"
            ]
          },
          "metadata": {},
          "execution_count": 28
        }
      ]
    },
    {
      "cell_type": "code",
      "metadata": {
        "colab": {
          "base_uri": "https://localhost:8080/"
        },
        "id": "yc-TeyDpi4kJ",
        "outputId": "2fbbe200-4248-40ae-ef54-37f4d361e37d"
      },
      "source": [
        "# Train the data\n",
        "logreg.fit(x_train, y_train)"
      ],
      "execution_count": null,
      "outputs": [
        {
          "output_type": "execute_result",
          "data": {
            "text/plain": [
              "LogisticRegression(C=1.0, class_weight=None, dual=False, fit_intercept=True,\n",
              "                   intercept_scaling=1, l1_ratio=None, max_iter=100,\n",
              "                   multi_class='auto', n_jobs=None, penalty='l2',\n",
              "                   random_state=None, solver='lbfgs', tol=0.0001, verbose=0,\n",
              "                   warm_start=False)"
            ]
          },
          "metadata": {},
          "execution_count": 29
        }
      ]
    },
    {
      "cell_type": "code",
      "metadata": {
        "id": "NRHgWggRjEb5"
      },
      "source": [
        "# Predict using the trained model\n",
        "y_train_pred = logreg.predict(x_train)\n",
        "y_test_pred = logreg.predict(x_test)\n",
        "target_pred = logreg.predict(x)"
      ],
      "execution_count": null,
      "outputs": []
    },
    {
      "cell_type": "code",
      "metadata": {
        "colab": {
          "base_uri": "https://localhost:8080/"
        },
        "id": "GS_vJ0FjjWoW",
        "outputId": "1b06a728-5829-4b63-f27f-8f0decf3c85b"
      },
      "source": [
        "# Comparing prediction with real data\n",
        "print('Real Data')\n",
        "print(y_train[:5])\n",
        "print('Predicted Data')\n",
        "print(y_train_pred[:5])"
      ],
      "execution_count": null,
      "outputs": [
        {
          "output_type": "stream",
          "name": "stdout",
          "text": [
            "Real Data\n",
            "83     0\n",
            "274    0\n",
            "190    0\n",
            "140    1\n",
            "21     1\n",
            "Name: DEATH_EVENT, dtype: category\n",
            "Categories (2, int64): [0, 1]\n",
            "Predicted Data\n",
            "[1 0 0 0 1]\n"
          ]
        }
      ]
    },
    {
      "cell_type": "code",
      "metadata": {
        "colab": {
          "base_uri": "https://localhost:8080/"
        },
        "id": "MAWB1YFsjbxk",
        "outputId": "2cbb6e10-1fe8-4eec-bb61-3c711c54d80e"
      },
      "source": [
        "# Evaluate model's accuracy\n",
        "accuracy_training = accuracy_score(y_train,y_train_pred)\n",
        "accuracy_test = accuracy_score(y_test,y_test_pred)\n",
        "\n",
        "print(f'Accuracy Training Data: {accuracy_training}')\n",
        "print(f'Accuracy Test Data: {accuracy_test}')"
      ],
      "execution_count": null,
      "outputs": [
        {
          "output_type": "stream",
          "name": "stdout",
          "text": [
            "Accuracy Training Data: 0.8715083798882681\n",
            "Accuracy Test Data: 0.8888888888888888\n"
          ]
        }
      ]
    },
    {
      "cell_type": "code",
      "metadata": {
        "colab": {
          "base_uri": "https://localhost:8080/",
          "height": 296
        },
        "id": "KFl3JEhLj3P5",
        "outputId": "b48549b8-62e0-4180-afb2-c4969b75c512"
      },
      "source": [
        "# Create a confusion matrix\n",
        "from sklearn.metrics import plot_confusion_matrix\n",
        "plot_confusion_matrix(logreg, x_test, y_test)"
      ],
      "execution_count": null,
      "outputs": [
        {
          "output_type": "execute_result",
          "data": {
            "text/plain": [
              "<sklearn.metrics._plot.confusion_matrix.ConfusionMatrixDisplay at 0x7f3dc1dfc690>"
            ]
          },
          "metadata": {},
          "execution_count": 33
        },
        {
          "output_type": "display_data",
          "data": {
            "image/png": "[encoded data removed]",
            "text/plain": [
              "<Figure size 432x288 with 2 Axes>"
            ]
          },
          "metadata": {
            "needs_background": "light"
          }
        }
      ]
    },
    {
      "cell_type": "code",
      "metadata": {
        "colab": {
          "base_uri": "https://localhost:8080/",
          "height": 315
        },
        "id": "jMHD1YaKx4DX",
        "outputId": "a52b40e4-bb91-4451-afbf-f27055c7c038"
      },
      "source": [
        "# Feature importance\n",
        "fi_logreg = logreg.coef_[0]\n",
        " \n",
        "# Plotting feature importance\n",
        "plt.bar([x for x in range(len(fi_logreg))], fi_logreg)\n",
        "plt.show()\n",
        "\n",
        "# Summarizing feature importance\n",
        "for i,v in enumerate(fi_logreg):\n",
        "\tprint('Feature: %0d, Score: %.3f' % (i,v))\n",
        "\n",
        "\n",
        "# The positive scores indicate a feature that predicts class 1, whereas the negative scores indicate a feature that predicts class 0"
      ],
      "execution_count": null,
      "outputs": [
        {
          "output_type": "display_data",
          "data": {
            "image/png": "[encoded data removed]",
            "text/plain": [
              "<Figure size 432x288 with 1 Axes>"
            ]
          },
          "metadata": {
            "needs_background": "light"
          }
        },
        {
          "output_type": "stream",
          "name": "stdout",
          "text": [
            "Feature: 0, Score: 0.253\n",
            "Feature: 1, Score: 0.579\n",
            "Feature: 2, Score: -1.688\n"
          ]
        }
      ]
    },
    {
      "cell_type": "markdown",
      "metadata": {
        "id": "2oYBg2VwmAdv"
      },
      "source": [
        "## Naive Bayes"
      ]
    },
    {
      "cell_type": "code",
      "metadata": {
        "colab": {
          "base_uri": "https://localhost:8080/"
        },
        "id": "mbELbP4smCFs",
        "outputId": "4259e529-8017-4493-fb34-d81e1164e6ad"
      },
      "source": [
        "# Load the algorithm\n",
        "from sklearn.naive_bayes import GaussianNB\n",
        "nb = GaussianNB()\n",
        "nb.fit(x_train, y_train)"
      ],
      "execution_count": null,
      "outputs": [
        {
          "output_type": "execute_result",
          "data": {
            "text/plain": [
              "GaussianNB(priors=None, var_smoothing=1e-09)"
            ]
          },
          "metadata": {},
          "execution_count": 35
        }
      ]
    },
    {
      "cell_type": "code",
      "metadata": {
        "id": "3RmbEC__nQ1V"
      },
      "source": [
        "# Predict using the trained model\n",
        "y_train_pred = nb.predict(x_train)\n",
        "y_test_pred = nb.predict(x_test)\n",
        "target_pred = nb.predict(x)"
      ],
      "execution_count": null,
      "outputs": []
    },
    {
      "cell_type": "code",
      "metadata": {
        "colab": {
          "base_uri": "https://localhost:8080/"
        },
        "id": "8qdQ1hqsnbEw",
        "outputId": "4bf41c01-1b7e-45ac-d756-d07ad6898dda"
      },
      "source": [
        "# Compare prediction and real data\n",
        "print('Real Data')\n",
        "print(y_train[:5])\n",
        "print('Predicted Data')\n",
        "print(y_train_pred[:5])"
      ],
      "execution_count": null,
      "outputs": [
        {
          "output_type": "stream",
          "name": "stdout",
          "text": [
            "Real Data\n",
            "83     0\n",
            "274    0\n",
            "190    0\n",
            "140    1\n",
            "21     1\n",
            "Name: DEATH_EVENT, dtype: category\n",
            "Categories (2, int64): [0, 1]\n",
            "Predicted Data\n",
            "[1 0 1 1 1]\n"
          ]
        }
      ]
    },
    {
      "cell_type": "code",
      "metadata": {
        "colab": {
          "base_uri": "https://localhost:8080/"
        },
        "id": "2L785OQgoi9A",
        "outputId": "7fa2113a-fb68-44bf-ad6d-13a2dbda0db8"
      },
      "source": [
        "# Evaluate the model\n",
        "accuracy_training = accuracy_score(y_train,y_train_pred)\n",
        "accuracy_test = accuracy_score(y_test,y_test_pred)\n",
        "\n",
        "print(f'Accuracy Training Data: {accuracy_training}')\n",
        "print(f'Accuracy Test Data: {accuracy_test}')"
      ],
      "execution_count": null,
      "outputs": [
        {
          "output_type": "stream",
          "name": "stdout",
          "text": [
            "Accuracy Training Data: 0.8603351955307262\n",
            "Accuracy Test Data: 0.8666666666666667\n"
          ]
        }
      ]
    },
    {
      "cell_type": "code",
      "metadata": {
        "colab": {
          "base_uri": "https://localhost:8080/",
          "height": 296
        },
        "id": "BShvOTgWpJ_G",
        "outputId": "1706c995-16ac-4be8-97be-54d46c1ac965"
      },
      "source": [
        "# Confusion matrix\n",
        "plot_confusion_matrix(nb, x_test, y_test)"
      ],
      "execution_count": null,
      "outputs": [
        {
          "output_type": "execute_result",
          "data": {
            "text/plain": [
              "<sklearn.metrics._plot.confusion_matrix.ConfusionMatrixDisplay at 0x7f3dbfa5dd50>"
            ]
          },
          "metadata": {},
          "execution_count": 39
        },
        {
          "output_type": "display_data",
          "data": {
            "image/png": "[encoded data removed]",
            "text/plain": [
              "<Figure size 432x288 with 2 Axes>"
            ]
          },
          "metadata": {
            "needs_background": "light"
          }
        }
      ]
    },
    {
      "cell_type": "code",
      "metadata": {
        "colab": {
          "base_uri": "https://localhost:8080/",
          "height": 315
        },
        "id": "Fx9dQqsI01g6",
        "outputId": "a1385ea4-62cd-466a-b079-8d529a8f88cc"
      },
      "source": [
        "# Feature importance\n",
        "from sklearn.inspection import permutation_importance\n",
        "fi_nb = permutation_importance(nb, x_test, y_test)\n",
        "\n",
        "# Plotting feature importance\n",
        "plt.bar([x for x in range(len(fi_nb.importances_mean))], fi_nb.importances_mean)\n",
        "plt.show()\n",
        "\n",
        "# Summarizing feature importance\n",
        "for i,v in enumerate(fi_nb.importances_mean):\n",
        "\tprint('Feature: %0d, Score: %.3f' % (i,v))"
      ],
      "execution_count": null,
      "outputs": [
        {
          "output_type": "display_data",
          "data": {
            "image/png": "[encoded data removed]",
            "text/plain": [
              "<Figure size 432x288 with 1 Axes>"
            ]
          },
          "metadata": {
            "needs_background": "light"
          }
        },
        {
          "output_type": "stream",
          "name": "stdout",
          "text": [
            "Feature: 0, Score: 0.036\n",
            "Feature: 1, Score: 0.053\n",
            "Feature: 2, Score: 0.093\n"
          ]
        }
      ]
    },
    {
      "cell_type": "markdown",
      "metadata": {
        "id": "UiQJpnexpG5Q"
      },
      "source": [
        "## Decision Tree"
      ]
    },
    {
      "cell_type": "code",
      "metadata": {
        "colab": {
          "base_uri": "https://localhost:8080/"
        },
        "id": "7E3482SupToS",
        "outputId": "801fe525-41c1-4f3f-eb31-719719464e79"
      },
      "source": [
        "# Load the algorithm\n",
        "from sklearn.tree import DecisionTreeClassifier\n",
        "dt = DecisionTreeClassifier()\n",
        "dt.fit(x_train, y_train)"
      ],
      "execution_count": null,
      "outputs": [
        {
          "output_type": "execute_result",
          "data": {
            "text/plain": [
              "DecisionTreeClassifier(ccp_alpha=0.0, class_weight=None, criterion='gini',\n",
              "                       max_depth=None, max_features=None, max_leaf_nodes=None,\n",
              "                       min_impurity_decrease=0.0, min_impurity_split=None,\n",
              "                       min_samples_leaf=1, min_samples_split=2,\n",
              "                       min_weight_fraction_leaf=0.0, presort='deprecated',\n",
              "                       random_state=None, splitter='best')"
            ]
          },
          "metadata": {},
          "execution_count": 41
        }
      ]
    },
    {
      "cell_type": "code",
      "metadata": {
        "id": "w1V7C1HepbNS"
      },
      "source": [
        "# Predict using the trained model\n",
        "y_train_pred = dt.predict(x_train)\n",
        "y_test_pred = dt.predict(x_test)\n",
        "target_pred = dt.predict(x)"
      ],
      "execution_count": null,
      "outputs": []
    },
    {
      "cell_type": "code",
      "metadata": {
        "colab": {
          "base_uri": "https://localhost:8080/"
        },
        "id": "u87O8U4Spl5g",
        "outputId": "9b9bd5f5-d464-41a1-e77e-b03012ada324"
      },
      "source": [
        "# Compare prediction and real data\n",
        "print('Real Data')\n",
        "print(y_train[:5])\n",
        "print('Predicted Data')\n",
        "print(y_train_pred[:5])"
      ],
      "execution_count": null,
      "outputs": [
        {
          "output_type": "stream",
          "name": "stdout",
          "text": [
            "Real Data\n",
            "83     0\n",
            "274    0\n",
            "190    0\n",
            "140    1\n",
            "21     1\n",
            "Name: DEATH_EVENT, dtype: category\n",
            "Categories (2, int64): [0, 1]\n",
            "Predicted Data\n",
            "[0 0 0 1 1]\n"
          ]
        }
      ]
    },
    {
      "cell_type": "code",
      "metadata": {
        "colab": {
          "base_uri": "https://localhost:8080/"
        },
        "id": "jnRNHfWfprzB",
        "outputId": "fc897457-d811-4d87-a6bd-0597362a3c74"
      },
      "source": [
        "# Evaluate the model\n",
        "# Overfit\n",
        "accuracy_training = accuracy_score(y_train,y_train_pred)\n",
        "accuracy_test = accuracy_score(y_test,y_test_pred)\n",
        "\n",
        "print(f'Accuracy Training Data: {accuracy_training}')\n",
        "print(f'Accuracy Test Data: {accuracy_test}')"
      ],
      "execution_count": null,
      "outputs": [
        {
          "output_type": "stream",
          "name": "stdout",
          "text": [
            "Accuracy Training Data: 1.0\n",
            "Accuracy Test Data: 0.8\n"
          ]
        }
      ]
    },
    {
      "cell_type": "code",
      "metadata": {
        "colab": {
          "base_uri": "https://localhost:8080/",
          "height": 296
        },
        "id": "8_8_5GOapw9u",
        "outputId": "4868cbfa-fcb9-49a7-b09a-05a4902ac87c"
      },
      "source": [
        "plot_confusion_matrix(dt, x_test, y_test)"
      ],
      "execution_count": null,
      "outputs": [
        {
          "output_type": "execute_result",
          "data": {
            "text/plain": [
              "<sklearn.metrics._plot.confusion_matrix.ConfusionMatrixDisplay at 0x7f3dbca0f850>"
            ]
          },
          "metadata": {},
          "execution_count": 45
        },
        {
          "output_type": "display_data",
          "data": {
            "image/png": "[encoded data removed]",
            "text/plain": [
              "<Figure size 432x288 with 2 Axes>"
            ]
          },
          "metadata": {
            "needs_background": "light"
          }
        }
      ]
    },
    {
      "cell_type": "code",
      "metadata": {
        "colab": {
          "base_uri": "https://localhost:8080/",
          "height": 317
        },
        "id": "kERNspzXp-Hm",
        "outputId": "e6c350e8-c9a0-455a-d886-0963d2d31d9a"
      },
      "source": [
        "# Feature importance\n",
        "fi_dt = dt.feature_importances_\n",
        "\n",
        "# Plotting feature importance\n",
        "plt.bar([x for x in range(len(fi_dt))], fi_dt)\n",
        "plt.show()\n",
        "\n",
        "# Summarize feature importance\n",
        "for i,v in enumerate(fi_dt):\n",
        "\tprint('Feature: %0d, Score: %.3f' % (i,v))"
      ],
      "execution_count": null,
      "outputs": [
        {
          "output_type": "display_data",
          "data": {
            "image/png": "[encoded data removed]",
            "text/plain": [
              "<Figure size 432x288 with 1 Axes>"
            ]
          },
          "metadata": {
            "needs_background": "light"
          }
        },
        {
          "output_type": "stream",
          "name": "stdout",
          "text": [
            "Feature: 0, Score: 0.138\n",
            "Feature: 1, Score: 0.087\n",
            "Feature: 2, Score: 0.775\n"
          ]
        }
      ]
    }
  ]
}